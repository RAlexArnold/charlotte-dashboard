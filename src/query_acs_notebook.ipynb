{
 "cells": [
  {
   "cell_type": "code",
   "execution_count": 4,
   "id": "64dec677-f560-4fcb-ba4e-3e9f5e97448c",
   "metadata": {
    "tags": []
   },
   "outputs": [],
   "source": [
    "# -*- coding: utf-8 -*-\n",
    "\"\"\"\n",
    "Created on Thu Sep  4 17:58:32 2025\n",
    "\n",
    "@author: Alex\n",
    "\"\"\"\n",
    "\n",
    "'''\n",
    "Query Each Type of Data. Then Save as DataFrame for later\n",
    "'''\n",
    "\n",
    "from pathlib import Path\n",
    "from utils import *\n",
    "\n",
    "# Add the config folder to sys.path\n",
    "#sys.path.append(os.path.join(os.path.dirname(__file__), \"..\", \"config\"))\n",
    "\n",
    "#import config\n",
    "\n",
    "\n",
    "def run_query():\n",
    "\n",
    "    # Population Data\n",
    "    pop_df = query_population()\n",
    "    print('Queried Population...')\n",
    "    \n",
    "    # Citizenship Data\n",
    "    nat_df = query_citizenship()\n",
    "    print('Queried Citizenship...')\n",
    "    \n",
    "    # Health Data\n",
    "    hth_df = query_health()\n",
    "    print('Queried Health...')\n",
    "    \n",
    "    # Economic Data\n",
    "    eco_df = query_economic()\n",
    "    print('Queried Economy...')\n",
    "    \n",
    "    # Merge All\n",
    "    df = pop_df.merge(\n",
    "        nat_df, on=['name', 'location', 'public use microdata area', 'state'], how='left').merge(\n",
    "        hth_df, on=['name', 'location', 'public use microdata area', 'state'], how='left').merge(\n",
    "        eco_df, on=['name', 'location', 'public use microdata area', 'state'], how='left')\n",
    "            \n",
    "        \n",
    "    return df\n",
    "            \n",
    "def save_file(df):\n",
    "    \n",
    "    base_path = Path(\"../\")  # relative to the notebook\n",
    "    output_file = base_path / \"data\" / \"raw\" / \"charlotte-puma.csv\"\n",
    "    output_file.parent.mkdir(parents=True, exist_ok=True)\n",
    "    df.to_csv(output_file, index=False)\n",
    "    \n",
    "df = run_query()\n",
    "save_file(df)\n",
    "\n"
   ]
  },
  {
   "cell_type": "markdown",
   "id": "a4ab3030-c921-4d3e-b494-f3a2cc7e951d",
   "metadata": {
    "tags": []
   },
   "source": [
    "had to run it in a notebook with the socialresearch kernel, becuase the census package doesn't load properly in spyder.\n",
    "\n",
    "I guess it's a kernel issue?"
   ]
  },
  {
   "cell_type": "code",
   "execution_count": null,
   "id": "cab4d4ae-af0f-46a8-868d-546ffd82357f",
   "metadata": {},
   "outputs": [],
   "source": []
  }
 ],
 "metadata": {
  "kernelspec": {
   "display_name": "socialresearch",
   "language": "python",
   "name": "socialresearch"
  },
  "language_info": {
   "codemirror_mode": {
    "name": "ipython",
    "version": 3
   },
   "file_extension": ".py",
   "mimetype": "text/x-python",
   "name": "python",
   "nbconvert_exporter": "python",
   "pygments_lexer": "ipython3",
   "version": "3.10.18"
  }
 },
 "nbformat": 4,
 "nbformat_minor": 5
}
